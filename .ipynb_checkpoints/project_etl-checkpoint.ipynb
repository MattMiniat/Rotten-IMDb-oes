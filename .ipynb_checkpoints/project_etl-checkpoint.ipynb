{
 "cells": [
  {
   "cell_type": "code",
   "execution_count": 11,
   "metadata": {},
   "outputs": [],
   "source": [
    "import pandas as pd\n",
    "from sqlalchemy import create_engine\n",
    "import datetime as dt"
   ]
  },
  {
   "cell_type": "code",
   "execution_count": 12,
   "metadata": {},
   "outputs": [],
   "source": [
    "imdb_movie_file = \"Resources/IMDb_movies.csv\"\n",
    "imdb_movie_ratings_file = \"Resources/IMDb_ratings.csv\"\n",
    "rotten_tomatos_ratings_file = \"Resources/rotten_tomato_movie_review.csv\""
   ]
  },
  {
   "cell_type": "code",
   "execution_count": 13,
   "metadata": {},
   "outputs": [],
   "source": [
    "rotten_tomatos_df = pd.read_csv(rotten_tomatos_ratings_file)\n",
    "imbdb_movie_df = pd.read_csv(imdb_movie_file)\n",
    "imbdb_movie_ratings_df = pd.read_csv(imdb_movie_ratings_file)"
   ]
  },
  {
   "cell_type": "code",
   "execution_count": 14,
   "metadata": {},
   "outputs": [],
   "source": [
    "#Trying to normalize movie names for merging. By lowercasing movie titles and replacing &'s with and.\n",
    "imbdb_movie_df = imbdb_movie_df[['imdb_title_id', 'title',\n",
    "                                 'year', 'genre', 'duration',\n",
    "                                 'country', 'language',\n",
    "                                 'director', 'writer',\n",
    "                                 'production_company',\n",
    "                                 'actors', 'description']]\n",
    "imbdb_movie_df.title = imbdb_movie_df.title.str.lower()\n",
    "imbdb_movie_df.title = imbdb_movie_df.title.str.replace('&', 'and', regex=False)\n",
    "imbdb_movie_df.drop_duplicates(\"title\", inplace=True)\n",
    "\n",
    "imbdb_movie_ratings_df = imbdb_movie_ratings_df[['imdb_title_id',\n",
    "                                                 'weighted_average_vote',\n",
    "                                                 'total_votes']]\n",
    "\n",
    "#Since rotten tomatos wasn't founded until 1998 I dropped movies created before that date.\n",
    "imbdb_movie_df = imbdb_movie_df.loc[imbdb_movie_df['year'] >= 1998]\n",
    "\n",
    "rotten_tomatos_df.rename(columns={'Name':'title'}, inplace=True)\n",
    "rotten_tomatos_df.title = rotten_tomatos_df.title.str.lower()\n",
    "rotten_tomatos_df.title = rotten_tomatos_df.title.replace('&', 'and', regex=False)\n",
    "rotten_tomatos_df.drop_duplicates(\"title\", inplace=True)"
   ]
  },
  {
   "cell_type": "code",
   "execution_count": 15,
   "metadata": {},
   "outputs": [],
   "source": [
    "#Filtering imdb\n",
    "#Decided to filter based on movie name to have a consistent even number of rows across all dataframes.\n",
    "filtered_imdb_df = imbdb_movie_df[imbdb_movie_df.title.isin(rotten_tomatos_df.title.tolist())]\n",
    "\n",
    "filtered_ratings_df = imbdb_movie_ratings_df[imbdb_movie_ratings_df['imdb_title_id']\n",
    "                                             .isin(filtered_imdb_df['imdb_title_id'].tolist())]\n",
    "\n",
    "filtered_rotten_tomatoes_df = rotten_tomatos_df[rotten_tomatos_df.title.isin(filtered_imdb_df.title)]"
   ]
  },
  {
   "cell_type": "code",
   "execution_count": 16,
   "metadata": {},
   "outputs": [],
   "source": [
    "#Merged id col from imdb dataframe into rotten tomatoes dataframe to use as foreign key in sql tables\n",
    "merged_rotten_tomatoes_df = filtered_rotten_tomatoes_df.merge(filtered_imdb_df[['imdb_title_id',\n",
    "                                                                                'title']], on='title')\n",
    "merged_rotten_tomatoes_df = merged_rotten_tomatoes_df.drop(columns=['title', 'Rating',\n",
    "                                                                    'Directed By', 'Runtime',\n",
    "                                                                    'Studio'])"
   ]
  },
  {
   "cell_type": "code",
   "execution_count": 17,
   "metadata": {},
   "outputs": [],
   "source": [
    "#Renaming column names for loading\n",
    "filtered_imdb_df = filtered_imdb_df.rename(columns={'imdb_title_id': 'id'})\n",
    "merged_rotten_tomatoes_df = merged_rotten_tomatoes_df.rename(columns={'TOMATOMETER score':'tomato_score',\n",
    "                                                                      'TOMATOMETER Count':'tomato_count',\n",
    "                                                                      'AUDIENCE score': 'audience_score',\n",
    "                                                                      'AUDIENCE count':'audience_count'})"
   ]
  },
  {
   "cell_type": "code",
   "execution_count": 18,
   "metadata": {},
   "outputs": [],
   "source": [
    "# I am keeping this in here. I found this code via some research. Pretty neat.\n",
    "# I used this to get max lengths of strings per column in order to set varchar sizes for sql table columns.\n",
    "import numpy as np\n",
    "\n",
    "measurer = np.vectorize(len)\n",
    "imdb_sizes = measurer(filtered_imdb_df.select_dtypes(include=[object]).values.astype(str)).max(axis=0)\n",
    "rotten_sizes = measurer(merged_rotten_tomatoes_df.select_dtypes(include=[object]).values.astype(str)).max(axis=0)\n",
    "imdb_ratings_sizes = measurer(imbdb_movie_ratings_df.select_dtypes(include=[object]).values.astype(str)).max(axis=0)\n",
    "#print(f'{imdb_sizes}\\n{rotten_sizes}\\n{imdb_ratings_sizes}')\n",
    "\n",
    "#Didn't end up using. Decided to let pandass handle table generation. Kept for notes."
   ]
  },
  {
   "cell_type": "code",
   "execution_count": 26,
   "metadata": {},
   "outputs": [],
   "source": [
    "#Connection string syntax \"{USERNAME:PASSWORD@localhost:PORT/DB_NAME}\"\n",
    "password = '' #Use your postgres password\n",
    "\n",
    "username = 'postgres' #postgres default username\n",
    "port = '5433' #This was my default port\n",
    "db_name = 'movies_db'\n",
    "conn_str = f\"{username}:{password}@localhost:{port}/\"\n",
    "engine = create_engine(f'postgresql://{conn_str}')"
   ]
  },
  {
   "cell_type": "code",
   "execution_count": 36,
   "metadata": {},
   "outputs": [],
   "source": [
    "#Create Database if not exist\n",
    "conn = engine.connect()\n",
    "conn.execute(\"commit\")\n",
    "\n",
    "#Did this to catch errors generally from db existing.\n",
    "try:\n",
    "    conn.execute(f\"create database {db_name}\")\n",
    "    conn.close()\n",
    "except:\n",
    "    conn.close()\n",
    "\n",
    "#Connect to new database\n",
    "conn_str = f\"{username}:{password}@localhost:{port}/{db_name}\"\n",
    "engine = create_engine(f'postgresql://{conn_str}')"
   ]
  },
  {
   "cell_type": "code",
   "execution_count": 21,
   "metadata": {},
   "outputs": [],
   "source": [
    "#Drop Tables if exist to avoid errors later.\n",
    "with engine.connect() as con:\n",
    "    con.execute('DROP TABLE IF EXISTS imdb_movies;'\n",
    "                'DROP TABLE IF EXISTS imdb_ratings;'\n",
    "                'DROP TABLE IF EXISTS rotten_ratings;')"
   ]
  },
  {
   "cell_type": "code",
   "execution_count": 22,
   "metadata": {},
   "outputs": [],
   "source": [
    "#Loading tables into postgres. I let postgres handing table generation.\n",
    "filtered_imdb_df.to_sql(name='imdb_movies', con=engine, if_exists='append', index=False)\n",
    "filtered_ratings_df.to_sql(name='imdb_ratings', con=engine, if_exists='append', index=False)\n",
    "merged_rotten_tomatoes_df.to_sql(name='rotten_ratings', con=engine, if_exists='append', index=False)"
   ]
  },
  {
   "cell_type": "code",
   "execution_count": 23,
   "metadata": {},
   "outputs": [],
   "source": [
    "#Wanted to do everything within pandas, but could not find a way to create the tables and set the keys during.\n",
    "#So I ran a query after the tables were instantiated.\n",
    "with engine.connect() as con:\n",
    "    con.execute('ALTER TABLE imdb_movies ADD PRIMARY KEY (Id);'\n",
    "                'ALTER TABLE imdb_ratings ADD FOREIGN KEY (imdb_title_id) REFERENCES imdb_movies(Id);'\n",
    "                'ALTER TABLE rotten_ratings ADD FOREIGN KEY (imdb_title_id) REFERENCES imdb_movies(Id);')"
   ]
  }
 ],
 "metadata": {
  "kernelspec": {
   "display_name": "Python 3",
   "language": "python",
   "name": "python3"
  },
  "language_info": {
   "codemirror_mode": {
    "name": "ipython",
    "version": 3
   },
   "file_extension": ".py",
   "mimetype": "text/x-python",
   "name": "python",
   "nbconvert_exporter": "python",
   "pygments_lexer": "ipython3",
   "version": "3.6.10"
  }
 },
 "nbformat": 4,
 "nbformat_minor": 4
}
